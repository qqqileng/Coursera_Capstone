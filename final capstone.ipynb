{
 "cells": [
  {
   "cell_type": "markdown",
   "metadata": {},
   "source": [
    "# Final Project Capstone - Coursera"
   ]
  },
  {
   "cell_type": "markdown",
   "metadata": {},
   "source": [
    "### Author: Qi Leng\n",
    "### Date: 4/3/2020"
   ]
  },
  {
   "cell_type": "markdown",
   "metadata": {},
   "source": [
    "#### Introduction\n",
    "In this project, I am helping a friend in New York on solving a business problem. He is about to open a new Japanese-Italian fusion restaurant in New York, but he is not sure where is the right place. We had a few preferable locations in mind. I helped him gather information on three aspects of each location: restaurants nearby, number of WiFi hotspot nearby, and crime rate nearby.\n",
    "<br>To make the data comparable, I decide to give a weight to every feature, and calculate a score for each location. The formula is:\n",
    "$$ 0.8 * number\\_of\\_restaurants\\_near\\_by + 0.2 * number\\_of\\_wifi\\_hotspots - 0.4 * number\\_of\\_crimes $$"
   ]
  },
  {
   "cell_type": "markdown",
   "metadata": {},
   "source": [
    "#### Method\n",
    "Next, import necessary libraries. \n",
    "<br> Besides Foursquare API, I also added New York Crime dataset and New York City WiFi dataset from Kaggle. "
   ]
  },
  {
   "cell_type": "code",
   "execution_count": 1,
   "metadata": {},
   "outputs": [],
   "source": [
    "import requests # library to handle requests\n",
    "import pandas as pd # library for data analsysis\n",
    "import numpy as np # library to handle data in a vectorized manner\n",
    "import random # library for random number generation\n",
    "\n",
    "from geopy.geocoders import Nominatim \n",
    "from IPython.display import Image \n",
    "from IPython.core.display import HTML \n",
    "from pandas.io.json import json_normalize\n",
    "\n",
    "import folium \n",
    "import warnings\n",
    "warnings.filterwarnings('ignore')\n"
   ]
  },
  {
   "cell_type": "markdown",
   "metadata": {},
   "source": [
    "Define Foursquare credentials "
   ]
  },
  {
   "cell_type": "code",
   "execution_count": 2,
   "metadata": {},
   "outputs": [],
   "source": [
    "import json, requests\n",
    "url = 'https://api.foursquare.com/v2/venues/explore'\n",
    "\n",
    "CLIENT_ID='5A4VSJ2CQUOZGF3ZLSLANHIGMES3ZAXEMV3GWLP3EIESGESZ'\n",
    "CLIENT_SECRET='XIZFXQ1EGYULKMUNREIRIV3ADXEWEGZROXRQL4CLPBYNOKEG'\n",
    "VERSION='20200403'\n",
    "LIMIT = 30"
   ]
  },
  {
   "cell_type": "markdown",
   "metadata": {},
   "source": [
    "Import WiFi Dataset from Kaggle. "
   ]
  },
  {
   "cell_type": "code",
   "execution_count": 3,
   "metadata": {},
   "outputs": [],
   "source": [
    "wifi = pd.read_csv('wifi.csv')"
   ]
  },
  {
   "cell_type": "code",
   "execution_count": 4,
   "metadata": {},
   "outputs": [
    {
     "data": {
      "text/plain": [
       "(2566, 29)"
      ]
     },
     "execution_count": 4,
     "metadata": {},
     "output_type": "execute_result"
    }
   ],
   "source": [
    "wifi.shape"
   ]
  },
  {
   "cell_type": "code",
   "execution_count": 5,
   "metadata": {},
   "outputs": [],
   "source": [
    "crime = pd.read_csv('crime_data.csv')\n",
    "crime = crime.head(20000)"
   ]
  },
  {
   "cell_type": "code",
   "execution_count": 6,
   "metadata": {},
   "outputs": [
    {
     "data": {
      "text/plain": [
       "(20000, 24)"
      ]
     },
     "execution_count": 6,
     "metadata": {},
     "output_type": "execute_result"
    }
   ],
   "source": [
    "crime.shape"
   ]
  },
  {
   "cell_type": "code",
   "execution_count": 7,
   "metadata": {},
   "outputs": [],
   "source": [
    "restaurant = pd.read_csv('res.csv')"
   ]
  },
  {
   "cell_type": "code",
   "execution_count": 8,
   "metadata": {},
   "outputs": [
    {
     "data": {
      "text/plain": [
       "(348, 23)"
      ]
     },
     "execution_count": 8,
     "metadata": {},
     "output_type": "execute_result"
    }
   ],
   "source": [
    "restaurant.shape"
   ]
  },
  {
   "cell_type": "code",
   "execution_count": 9,
   "metadata": {},
   "outputs": [
    {
     "data": {
      "text/plain": [
       "Index(['name', 'street_address', 'google_map', 'review_count', 'phone',\n",
       "       'website', 'restaurant_type', 'average_review', 'food_review',\n",
       "       'service_review', 'ambience_review', 'value_review', 'price_range',\n",
       "       'star_1', 'star_2', 'star_3', 'star_4', 'star_5', 'description',\n",
       "       'restaurant_main_type', 'latitude', 'longitude', 'postal_code'],\n",
       "      dtype='object')"
      ]
     },
     "execution_count": 9,
     "metadata": {},
     "output_type": "execute_result"
    }
   ],
   "source": [
    "restaurant.columns"
   ]
  },
  {
   "cell_type": "code",
   "execution_count": 10,
   "metadata": {},
   "outputs": [],
   "source": [
    "# Use a latitude and longitude tuple list to save the geographical data of three spots.\n",
    "geolocation = []\n",
    "wifi_list = []\n",
    "crime_list = []"
   ]
  },
  {
   "cell_type": "markdown",
   "metadata": {},
   "source": [
    "### Choice 1: The Vessel\n",
    "The first choice is to open a restaurant near the Vessel, which is one of the most popular sights in New York. There are also a lot of beautiful restaurants in this area. (Trust me, I am a New Yorker.)\n",
    "<br>To start researching on the Vessel, first we should get the geographical location of this place."
   ]
  },
  {
   "cell_type": "code",
   "execution_count": 11,
   "metadata": {},
   "outputs": [
    {
     "name": "stdout",
     "output_type": "stream",
     "text": [
      "40.753355150000004 -74.0009410406605\n"
     ]
    }
   ],
   "source": [
    "# Choice 1: The Vessel\n",
    "address = 'The Shops and Restaurants at Hudson Yards, New York, NY 10001'\n",
    "geolocator = Nominatim(user_agent=\"foursquare_agent\")\n",
    "location = geolocator.geocode(address)\n",
    "latitude = location.latitude\n",
    "longitude = location.longitude\n",
    "print(latitude, longitude)\n",
    "geolocation.append((latitude, longitude))"
   ]
  },
  {
   "cell_type": "markdown",
   "metadata": {},
   "source": [
    "Let us see if there is wifi available nearby. To define nearby, let us assume that the difference between latitude and longitude is less than 0.005."
   ]
  },
  {
   "cell_type": "code",
   "execution_count": 12,
   "metadata": {},
   "outputs": [],
   "source": [
    "wifi_num = 0\n",
    "for index,row in wifi.iterrows():\n",
    "    if abs(row['Latitude'] - latitude) < 0.005 and abs(row['Longitude'] - longitude) < 0.005:\n",
    "        wifi_num += 1\n",
    "wifi_list.append(wifi_num)"
   ]
  },
  {
   "cell_type": "code",
   "execution_count": 13,
   "metadata": {},
   "outputs": [],
   "source": [
    "crime_num = 0\n",
    "for index,row in crime.iterrows():\n",
    "    if abs(row['Latitude'] - latitude) < 0.005 and abs(row['Longitude'] - longitude) < 0.005:\n",
    "        crime_num += 1\n",
    "crime_list.append(crime_num)"
   ]
  },
  {
   "cell_type": "code",
   "execution_count": 14,
   "metadata": {},
   "outputs": [
    {
     "data": {
      "text/plain": [
       "Series([], Name: Price Range, dtype: int64)"
      ]
     },
     "execution_count": 14,
     "metadata": {},
     "output_type": "execute_result"
    }
   ],
   "source": [
    "#Check the average price around the Vessel\n",
    "price = []\n",
    "for index,row in restaurant.iterrows():\n",
    "    if abs(row['latitude'] - latitude) < 0.005 and abs(row['longitude'] - longitude) < 0.005:\n",
    "        price.append(row['price_range'])\n",
    "price = pd.DataFrame(data=price,columns=['Price Range'])\n",
    "count = price.groupby(['Price Range'])['Price Range'].count()\n",
    "count"
   ]
  },
  {
   "cell_type": "code",
   "execution_count": 15,
   "metadata": {},
   "outputs": [],
   "source": [
    "search_query = 'Japanese'\n",
    "radius = 1000\n",
    "url = 'https://api.foursquare.com/v2/venues/search?client_id={}&client_secret={}&ll={},{}&v={}&query={}&radius={}&limit={}'.format(CLIENT_ID, CLIENT_SECRET, latitude, longitude, VERSION, search_query, radius, LIMIT)\n",
    "results = requests.get(url).json()"
   ]
  },
  {
   "cell_type": "code",
   "execution_count": 16,
   "metadata": {},
   "outputs": [],
   "source": [
    "# Transform the result to dataframe\n",
    "venues = results['response']['venues']\n",
    "\n",
    "# tranform venues into a dataframe\n",
    "dataframe = json_normalize(venues)\n",
    "jp = dataframe.shape[0]"
   ]
  },
  {
   "cell_type": "markdown",
   "metadata": {},
   "source": [
    "There are 5 Japanese restaurants around the Vessel, so the competition is not quite aggresive! Besides Japanese restaurants, there are also other types of restaurants, so there is a lot of diversity."
   ]
  },
  {
   "cell_type": "code",
   "execution_count": 17,
   "metadata": {},
   "outputs": [],
   "source": [
    "search_query = 'Italian'\n",
    "radius = 1000\n",
    "url = 'https://api.foursquare.com/v2/venues/search?client_id={}&client_secret={}&ll={},{}&v={}&query={}&radius={}&limit={}'.format(CLIENT_ID, CLIENT_SECRET, latitude, longitude, VERSION, search_query, radius, LIMIT)\n",
    "results = requests.get(url).json()"
   ]
  },
  {
   "cell_type": "code",
   "execution_count": 18,
   "metadata": {},
   "outputs": [],
   "source": [
    "# Transform the result to dataframe\n",
    "venues = results['response']['venues']\n",
    "\n",
    "# tranform venues into a dataframe\n",
    "dataframe = json_normalize(venues)\n",
    "it = dataframe.shape[0]"
   ]
  },
  {
   "cell_type": "markdown",
   "metadata": {},
   "source": [
    "Now the score for location at the Vessel is: "
   ]
  },
  {
   "cell_type": "code",
   "execution_count": 19,
   "metadata": {},
   "outputs": [
    {
     "data": {
      "text/plain": [
       "15.0"
      ]
     },
     "execution_count": 19,
     "metadata": {},
     "output_type": "execute_result"
    }
   ],
   "source": [
    "score_Vessel = 0.8 * (jp+it) + 0.2 * wifi_num - 0.4 * crime_num\n",
    "score_Vessel"
   ]
  },
  {
   "cell_type": "markdown",
   "metadata": {},
   "source": [
    "### Choice 2: Broadway\n",
    "The second choice is to open a restaurant near the Broadway, a cultural sight in New York. There are also a lot of beautiful restaurants in this area. \n",
    "<br>To start researching on the Broadway, first we should get the geographical location of this place."
   ]
  },
  {
   "cell_type": "code",
   "execution_count": 20,
   "metadata": {},
   "outputs": [
    {
     "name": "stdout",
     "output_type": "stream",
     "text": [
      "40.76339815 -73.98335504506701\n"
     ]
    }
   ],
   "source": [
    "# Choice 2: The Boradway\n",
    "address = '1681 Broadway, New York, NY 10019'\n",
    "geolocator = Nominatim(user_agent=\"foursquare_agent\")\n",
    "location = geolocator.geocode(address)\n",
    "latitude = location.latitude\n",
    "longitude = location.longitude\n",
    "print(latitude, longitude)\n",
    "geolocation.append((latitude, longitude))"
   ]
  },
  {
   "cell_type": "code",
   "execution_count": 21,
   "metadata": {},
   "outputs": [],
   "source": [
    "wifi_num = 0\n",
    "for index,row in wifi.iterrows():\n",
    "    if abs(row['Latitude'] - latitude) < 0.005 and abs(row['Longitude'] - longitude) < 0.005:\n",
    "        wifi_num += 1\n",
    "wifi_list.append(wifi_num)"
   ]
  },
  {
   "cell_type": "code",
   "execution_count": 22,
   "metadata": {},
   "outputs": [],
   "source": [
    "crime_num = 0\n",
    "for index,row in crime.iterrows():\n",
    "    if abs(row['Latitude'] - latitude) < 0.005 and abs(row['Longitude'] - longitude) < 0.005:\n",
    "        crime_num += 1\n",
    "crime_list.append(crime_num)"
   ]
  },
  {
   "cell_type": "code",
   "execution_count": 23,
   "metadata": {},
   "outputs": [
    {
     "data": {
      "image/png": "[encoded data removed]",
      "text/plain": [
       "<Figure size 360x360 with 1 Axes>"
      ]
     },
     "metadata": {},
     "output_type": "display_data"
    }
   ],
   "source": [
    "#Check the average price around the Broadway\n",
    "price = []\n",
    "for index,row in restaurant.iterrows():\n",
    "    if abs(row['latitude'] - latitude) < 0.005 and abs(row['longitude'] - longitude) < 0.005:\n",
    "        price.append(row['price_range'])\n",
    "price = pd.DataFrame(data=price,columns=['Price Range'])\n",
    "count = price.groupby(['Price Range'])['Price Range'].count()\n",
    "plot = count.plot.pie(subplots=True, figsize=(5, 5))"
   ]
  },
  {
   "cell_type": "code",
   "execution_count": 24,
   "metadata": {},
   "outputs": [],
   "source": [
    "search_query = 'Japanese'\n",
    "radius = 1000\n",
    "url = 'https://api.foursquare.com/v2/venues/search?client_id={}&client_secret={}&ll={},{}&v={}&query={}&radius={}&limit={}'.format(CLIENT_ID, CLIENT_SECRET, latitude, longitude, VERSION, search_query, radius, LIMIT)\n",
    "results = requests.get(url).json()\n",
    "\n",
    "# Transform the result to dataframe\n",
    "venues = results['response']['venues']\n",
    "\n",
    "# tranform venues into a dataframe\n",
    "dataframe = json_normalize(venues)\n",
    "jp = dataframe.shape[0]"
   ]
  },
  {
   "cell_type": "code",
   "execution_count": 25,
   "metadata": {},
   "outputs": [],
   "source": [
    "search_query = 'Italian'\n",
    "radius = 1000\n",
    "url = 'https://api.foursquare.com/v2/venues/search?client_id={}&client_secret={}&ll={},{}&v={}&query={}&radius={}&limit={}'.format(CLIENT_ID, CLIENT_SECRET, latitude, longitude, VERSION, search_query, radius, LIMIT)\n",
    "results = requests.get(url).json()\n",
    "\n",
    "# Transform the result to dataframe\n",
    "venues = results['response']['venues']\n",
    "\n",
    "# tranform venues into a dataframe\n",
    "dataframe = json_normalize(venues)\n",
    "it = dataframe.shape[0]"
   ]
  },
  {
   "cell_type": "markdown",
   "metadata": {},
   "source": [
    "Now the score for location at the Broadway is:"
   ]
  },
  {
   "cell_type": "code",
   "execution_count": 26,
   "metadata": {},
   "outputs": [
    {
     "data": {
      "text/plain": [
       "-0.3999999999999986"
      ]
     },
     "execution_count": 26,
     "metadata": {},
     "output_type": "execute_result"
    }
   ],
   "source": [
    "score_Broadway = 0.8 * (jp+it) + 0.2 * wifi_num - 0.4 * crime_num\n",
    "score_Broadway"
   ]
  },
  {
   "cell_type": "markdown",
   "metadata": {},
   "source": [
    "### Choice 3: SOHO\n",
    "The last choice is to open a restaurant near SOHO, a luxury shopping area preferred by many celebrities and has high-quality restaurants. \n",
    "<br>To start researching on the SOHO, first we should get the geographical location of this place."
   ]
  },
  {
   "cell_type": "code",
   "execution_count": 27,
   "metadata": {},
   "outputs": [
    {
     "name": "stdout",
     "output_type": "stream",
     "text": [
      "40.7220039 -74.0043561\n"
     ]
    }
   ],
   "source": [
    "# Choice 3: The SOHO\n",
    "address = '310 W Broadway, New York, NY 10013'\n",
    "geolocator = Nominatim(user_agent=\"foursquare_agent\")\n",
    "location = geolocator.geocode(address)\n",
    "latitude = location.latitude\n",
    "longitude = location.longitude\n",
    "print(latitude, longitude)\n",
    "geolocation.append((latitude, longitude))"
   ]
  },
  {
   "cell_type": "code",
   "execution_count": 28,
   "metadata": {},
   "outputs": [],
   "source": [
    "wifi_num = 0\n",
    "for index,row in wifi.iterrows():\n",
    "    if abs(row['Latitude'] - latitude) < 0.005 and abs(row['Longitude'] - longitude) < 0.005:\n",
    "        wifi_num += 1\n",
    "wifi_list.append(wifi_num)"
   ]
  },
  {
   "cell_type": "code",
   "execution_count": 29,
   "metadata": {},
   "outputs": [],
   "source": [
    "crime_num = 0\n",
    "for index,row in crime.iterrows():\n",
    "    if abs(row['Latitude'] - latitude) < 0.005 and abs(row['Longitude'] - longitude) < 0.005:\n",
    "        crime_num += 1\n",
    "crime_list.append(crime_num)"
   ]
  },
  {
   "cell_type": "code",
   "execution_count": null,
   "metadata": {},
   "outputs": [],
   "source": []
  },
  {
   "cell_type": "code",
   "execution_count": 30,
   "metadata": {},
   "outputs": [
    {
     "data": {
      "image/png": "[encoded data removed]",
      "text/plain": [
       "<Figure size 360x360 with 1 Axes>"
      ]
     },
     "metadata": {},
     "output_type": "display_data"
    }
   ],
   "source": [
    "#Check the average price around the SOHO\n",
    "price = []\n",
    "for index,row in restaurant.iterrows():\n",
    "    if abs(row['latitude'] - latitude) < 0.005 and abs(row['longitude'] - longitude) < 0.005:\n",
    "        price.append(row['price_range'])\n",
    "price = pd.DataFrame(data=price,columns=['Price Range'])\n",
    "count = price.groupby(['Price Range'])['Price Range'].count()\n",
    "plot = count.plot.pie(subplots=True, figsize=(5, 5))"
   ]
  },
  {
   "cell_type": "code",
   "execution_count": 31,
   "metadata": {},
   "outputs": [],
   "source": [
    "search_query = 'Japanese'\n",
    "radius = 1000\n",
    "url = 'https://api.foursquare.com/v2/venues/search?client_id={}&client_secret={}&ll={},{}&v={}&query={}&radius={}&limit={}'.format(CLIENT_ID, CLIENT_SECRET, latitude, longitude, VERSION, search_query, radius, LIMIT)\n",
    "results = requests.get(url).json()\n",
    "\n",
    "# Transform the result to dataframe\n",
    "venues = results['response']['venues']\n",
    "\n",
    "# tranform venues into a dataframe\n",
    "dataframe = json_normalize(venues)\n",
    "jp = dataframe.shape[0]"
   ]
  },
  {
   "cell_type": "code",
   "execution_count": 32,
   "metadata": {},
   "outputs": [],
   "source": [
    "search_query = 'Italian'\n",
    "radius = 1000\n",
    "url = 'https://api.foursquare.com/v2/venues/search?client_id={}&client_secret={}&ll={},{}&v={}&query={}&radius={}&limit={}'.format(CLIENT_ID, CLIENT_SECRET, latitude, longitude, VERSION, search_query, radius, LIMIT)\n",
    "results = requests.get(url).json()\n",
    "\n",
    "# Transform the result to dataframe\n",
    "venues = results['response']['venues']\n",
    "\n",
    "# tranform venues into a dataframe\n",
    "dataframe = json_normalize(venues)\n",
    "it = dataframe.shape[0]"
   ]
  },
  {
   "cell_type": "markdown",
   "metadata": {},
   "source": [
    "Now the score for location at the Broadway is:"
   ]
  },
  {
   "cell_type": "code",
   "execution_count": 33,
   "metadata": {},
   "outputs": [
    {
     "data": {
      "text/plain": [
       "-5.800000000000004"
      ]
     },
     "execution_count": 33,
     "metadata": {},
     "output_type": "execute_result"
    }
   ],
   "source": [
    "score_SOHO = 0.8 * (jp+it) + 0.2 * wifi_num - 0.4 * crime_num\n",
    "score_SOHO"
   ]
  },
  {
   "cell_type": "markdown",
   "metadata": {},
   "source": [
    "Let us draw three markers on the map to understand their geographical locations."
   ]
  },
  {
   "cell_type": "code",
   "execution_count": 34,
   "metadata": {
    "scrolled": true
   },
   "outputs": [
    {
     "data": {
      "text/html": [
       "<div style=\"width:100%;\"><div style=\"position:relative;width:100%;height:0;padding-bottom:60%;\"><iframe src=\"about:blank\" style=\"position:absolute;width:100%;height:100%;left:0;top:0;border:none !important;\" data-html=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 onload=\"this.contentDocument.open();this.contentDocument.write(atob(this.getAttribute('data-html')));this.contentDocument.close();\" allowfullscreen webkitallowfullscreen mozallowfullscreen></iframe></div></div>"
      ],
      "text/plain": [
       "<folium.folium.Map at 0x114390450>"
      ]
     },
     "execution_count": 34,
     "metadata": {},
     "output_type": "execute_result"
    }
   ],
   "source": [
    "# define the world map\n",
    "nyc_map = folium.Map()\n",
    "\n",
    "# define the world map centered around New York City with a low zoom level\n",
    "nyc_map = folium.Map(location=[40.730610, -73.935242], zoom_start=12)\n",
    "\n",
    "labels = [['The Vessel'],['Broadway'],['SOHO']]\n",
    "df_label = pd.DataFrame(data = labels,columns=['loc'])\n",
    "label = list(df_label['loc'])\n",
    "\n",
    "#label = geolocation\n",
    "for tup,l in zip(geolocation,label):\n",
    "    folium.Marker([tup[0], tup[1]],popup=l).add_to(nyc_map) \n",
    "\n",
    "\n",
    "# display world map\n",
    "nyc_map"
   ]
  },
  {
   "cell_type": "code",
   "execution_count": 38,
   "metadata": {},
   "outputs": [
    {
     "data": {
      "text/html": [
       "<div>\n",
       "<style scoped>\n",
       "    .dataframe tbody tr th:only-of-type {\n",
       "        vertical-align: middle;\n",
       "    }\n",
       "\n",
       "    .dataframe tbody tr th {\n",
       "        vertical-align: top;\n",
       "    }\n",
       "\n",
       "    .dataframe thead th {\n",
       "        text-align: right;\n",
       "    }\n",
       "</style>\n",
       "<table border=\"1\" class=\"dataframe\">\n",
       "  <thead>\n",
       "    <tr style=\"text-align: right;\">\n",
       "      <th></th>\n",
       "      <th>Location</th>\n",
       "      <th>Number of Wifi</th>\n",
       "      <th>Number of Crimes</th>\n",
       "    </tr>\n",
       "  </thead>\n",
       "  <tbody>\n",
       "    <tr>\n",
       "      <th>0</th>\n",
       "      <td>The Vessel</td>\n",
       "      <td>9</td>\n",
       "      <td>39</td>\n",
       "    </tr>\n",
       "    <tr>\n",
       "      <th>1</th>\n",
       "      <td>Broadway</td>\n",
       "      <td>68</td>\n",
       "      <td>153</td>\n",
       "    </tr>\n",
       "    <tr>\n",
       "      <th>2</th>\n",
       "      <td>SOHO</td>\n",
       "      <td>15</td>\n",
       "      <td>112</td>\n",
       "    </tr>\n",
       "  </tbody>\n",
       "</table>\n",
       "</div>"
      ],
      "text/plain": [
       "     Location  Number of Wifi  Number of Crimes\n",
       "0  The Vessel               9                39\n",
       "1    Broadway              68               153\n",
       "2        SOHO              15               112"
      ]
     },
     "execution_count": 38,
     "metadata": {},
     "output_type": "execute_result"
    }
   ],
   "source": [
    "location = ['The Vessel','Broadway','SOHO']\n",
    "data = list(zip(location, wifi_list, crime_list))\n",
    "#data = wifi_list + crime_list\n",
    "#data\n",
    "compare = pd.DataFrame(data = data, columns=['Location','Number of Wifi','Number of Crimes'])\n",
    "compare"
   ]
  },
  {
   "cell_type": "markdown",
   "metadata": {},
   "source": [
    "#### Conclusion\n",
    "Based on the criteria we had, the location The Vessel receives the highest score, and thus should be considered the best location to open a new Italian and Japanese restaurant."
   ]
  },
  {
   "cell_type": "code",
   "execution_count": null,
   "metadata": {},
   "outputs": [],
   "source": []
  }
 ],
 "metadata": {
  "kernelspec": {
   "display_name": "Python 3",
   "language": "python",
   "name": "python3"
  },
  "language_info": {
   "codemirror_mode": {
    "name": "ipython",
    "version": 3
   },
   "file_extension": ".py",
   "mimetype": "text/x-python",
   "name": "python",
   "nbconvert_exporter": "python",
   "pygments_lexer": "ipython3",
   "version": "3.7.6"
  }
 },
 "nbformat": 4,
 "nbformat_minor": 4
}
